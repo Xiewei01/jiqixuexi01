{
 "cells": [
  {
   "cell_type": "code",
   "execution_count": 6,
   "metadata": {},
   "outputs": [
    {
     "name": "stdout",
     "output_type": "stream",
     "text": [
      "228\n",
      "10\n",
      "0.956140350877193\n"
     ]
    },
    {
     "name": "stderr",
     "output_type": "stream",
     "text": [
      "C:\\Users\\ASUS\\Anaconda3\\lib\\site-packages\\sklearn\\linear_model\\logistic.py:433: FutureWarning: Default solver will be changed to 'lbfgs' in 0.22. Specify a solver to silence this warning.\n",
      "  FutureWarning)\n"
     ]
    }
   ],
   "source": [
    "from sklearn.datasets import load_breast_cancer\n",
    "from sklearn.linear_model import LogisticRegression\n",
    "breast_cancer = load_breast_cancer()\n",
    "from sklearn.model_selection import train_test_split\n",
    "diabetes_x = breast_cancer.data\n",
    "diabetes_y = breast_cancer.target\n",
    "x_train,x_test,y_train,y_test =train_test_split(diabetes_x, diabetes_y, test_size=0.4)\n",
    "log = LogisticRegression()\n",
    "log.fit(x_train,y_train)\n",
    "count = 0\n",
    "l = len(y_test)\n",
    "print(l)\n",
    "for i in range(l):\n",
    "    if log.predict(x_test)[i]!=y_test[i]:\n",
    "        count+=1\n",
    "print(count)\n",
    "print(1-count/l)"
   ]
  },
  {
   "cell_type": "markdown",
   "metadata": {},
   "source": [
    "数据来源于sklearn自带数据"
   ]
  },
  {
   "cell_type": "code",
   "execution_count": null,
   "metadata": {},
   "outputs": [],
   "source": []
  }
 ],
 "metadata": {
  "kernelspec": {
   "display_name": "Python 3",
   "language": "python",
   "name": "python3"
  },
  "language_info": {
   "codemirror_mode": {
    "name": "ipython",
    "version": 3
   },
   "file_extension": ".py",
   "mimetype": "text/x-python",
   "name": "python",
   "nbconvert_exporter": "python",
   "pygments_lexer": "ipython3",
   "version": "3.7.3"
  }
 },
 "nbformat": 4,
 "nbformat_minor": 2
}
